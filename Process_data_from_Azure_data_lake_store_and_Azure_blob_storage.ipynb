{
 "cells": [
  {
   "cell_type": "markdown",
   "metadata": {
    "collapsed": true
   },
   "source": [
    "### How to read a file in blob storage and azure data lake store into pandas dataframe"
   ]
  },
  {
   "cell_type": "markdown",
   "metadata": {},
   "source": [
    "** @author:Francis Kessie**"
   ]
  },
  {
   "cell_type": "markdown",
   "metadata": {
    "collapsed": true
   },
   "source": [
    "**install azure sdks using pip**\n",
    "##pip install azure"
   ]
  },
  {
   "cell_type": "markdown",
   "metadata": {},
   "source": [
    "### Make the connections to blob storage ##"
   ]
  },
  {
   "cell_type": "code",
   "execution_count": 17,
   "metadata": {
    "collapsed": true
   },
   "outputs": [],
   "source": [
    "# fill in your blob account name\n",
    "blob_account_name = \"name\" \n",
    "\n",
    "# fill in your blob account key\n",
    "blob_account_key = \"key\"  \n",
    "\n",
    "# fill in the container name\n",
    "mycontainer = \"mycontainer\"  \n",
    "\n",
    "# fill in the blob name \n",
    "myblobname = \"static-data/TestRefference.csv\" \n",
    "# fill in the output file name, must create in source folder\n",
    "mydatafile = \"./out.csv\"       "
   ]
  },
  {
   "cell_type": "markdown",
   "metadata": {},
   "source": [
    "**Read file from blob storage into pandas dataframe **"
   ]
  },
  {
   "cell_type": "code",
   "execution_count": 18,
   "metadata": {},
   "outputs": [
    {
     "name": "stdout",
     "output_type": "stream",
     "text": [
      "(6, 3)\n"
     ]
    }
   ],
   "source": [
    "import os \n",
    "import pandas as pd \n",
    "from azure.storage.blob import BlockBlobService\n",
    "dirname = os.getcwd()\n",
    "blob_service = BlockBlobService(account_name=blob_account_name, account_key=blob_account_key)\n",
    "\n",
    "blob_service.get_blob_to_path(mycontainer, myblobname, mydatafile)\n",
    "\n",
    "mydata = pd.read_csv(mydatafile, header = 0)\n",
    "\n",
    "os.remove(os.path.join(dirname, mydatafile))\n",
    "\n",
    "print(mydata.shape)"
   ]
  },
  {
   "cell_type": "code",
   "execution_count": 26,
   "metadata": {},
   "outputs": [
    {
     "data": {
      "text/html": [
       "<div>\n",
       "<style>\n",
       "    .dataframe thead tr:only-child th {\n",
       "        text-align: right;\n",
       "    }\n",
       "\n",
       "    .dataframe thead th {\n",
       "        text-align: left;\n",
       "    }\n",
       "\n",
       "    .dataframe tbody tr th {\n",
       "        vertical-align: top;\n",
       "    }\n",
       "</style>\n",
       "<table border=\"1\" class=\"dataframe\">\n",
       "  <thead>\n",
       "    <tr style=\"text-align: right;\">\n",
       "      <th></th>\n",
       "      <th>Commodity</th>\n",
       "      <th>Tolerance</th>\n",
       "      <th>Tph_RecSetpoint</th>\n",
       "    </tr>\n",
       "  </thead>\n",
       "  <tbody>\n",
       "    <tr>\n",
       "      <th>0</th>\n",
       "      <td>WHEAT</td>\n",
       "      <td>10</td>\n",
       "      <td>900</td>\n",
       "    </tr>\n",
       "    <tr>\n",
       "      <th>1</th>\n",
       "      <td>BARLEY</td>\n",
       "      <td>10</td>\n",
       "      <td>900</td>\n",
       "    </tr>\n",
       "    <tr>\n",
       "      <th>2</th>\n",
       "      <td>BARLEYMLT</td>\n",
       "      <td>10</td>\n",
       "      <td>600</td>\n",
       "    </tr>\n",
       "    <tr>\n",
       "      <th>3</th>\n",
       "      <td>OATS</td>\n",
       "      <td>10</td>\n",
       "      <td>750</td>\n",
       "    </tr>\n",
       "    <tr>\n",
       "      <th>4</th>\n",
       "      <td>LUPIN</td>\n",
       "      <td>10</td>\n",
       "      <td>600</td>\n",
       "    </tr>\n",
       "    <tr>\n",
       "      <th>5</th>\n",
       "      <td>CANOLA</td>\n",
       "      <td>10</td>\n",
       "      <td>750</td>\n",
       "    </tr>\n",
       "  </tbody>\n",
       "</table>\n",
       "</div>"
      ],
      "text/plain": [
       "   Commodity  Tolerance  Tph_RecSetpoint\n",
       "0      WHEAT         10              900\n",
       "1     BARLEY         10              900\n",
       "2  BARLEYMLT         10              600\n",
       "3       OATS         10              750\n",
       "4      LUPIN         10              600\n",
       "5     CANOLA         10              750"
      ]
     },
     "execution_count": 26,
     "metadata": {},
     "output_type": "execute_result"
    }
   ],
   "source": [
    "#there you go with your dataframe\n",
    "mydata"
   ]
  },
  {
   "cell_type": "markdown",
   "metadata": {},
   "source": [
    "### Reading a file from azure data lake store"
   ]
  },
  {
   "cell_type": "markdown",
   "metadata": {},
   "source": [
    "** There are a number of ways to authenticate, this is one of them **"
   ]
  },
  {
   "cell_type": "code",
   "execution_count": 1,
   "metadata": {},
   "outputs": [
    {
     "name": "stdout",
     "output_type": "stream",
     "text": [
      "To sign in, use a web browser to open the page https://microsoft.com/devicelogin and enter the code HZLG3GJUA to authenticate.\n"
     ]
    }
   ],
   "source": [
    "from azure.datalake.store import core, lib, multithread\n",
    "token = lib.auth()"
   ]
  },
  {
   "cell_type": "raw",
   "metadata": {},
   "source": [
    "# Create an ADLS File System Client. The store_name is the name of your ADLS account\n",
    "adls = core.AzureDLFileSystem(token, store_name='<insert>')"
   ]
  },
  {
   "cell_type": "code",
   "execution_count": 73,
   "metadata": {},
   "outputs": [
    {
     "data": {
      "text/plain": [
       "['catalog', 'plcreadings', 'system', 'thresholds']"
      ]
     },
     "execution_count": 73,
     "metadata": {},
     "output_type": "execute_result"
    }
   ],
   "source": [
    "#list files in data lake store\n",
    "adls.ls('')"
   ]
  },
  {
   "cell_type": "code",
   "execution_count": 71,
   "metadata": {
    "collapsed": true
   },
   "outputs": [],
   "source": [
    "#display content of particular files in the DLS\n",
    "#adls.cat('/plcreadings/2017/10/19_0_8e3bcd635bba445e89a0b18a53f2a774.json')"
   ]
  },
  {
   "cell_type": "code",
   "execution_count": 15,
   "metadata": {
    "scrolled": false
   },
   "outputs": [
    {
     "data": {
      "text/plain": [
       "b'{\"site\":\"Kwinana\",\"trainno\":\"4K64\",\"season\":\"2017\",\"commodity\":\"BARLEY\",\"messageid\":6698,\"iothub\":{\"MessageId\":null,\"CorrelationId\":null,\"ConnectionDeviceId\":\"kwinanapeaPLC\",\"ConnectionDeviceGenerationId\":\"636426098977011561\",\"EnqueuedTime\":\"2017-10-19T05:32:12.0720000Z\",\"StreamId\":null},\"deviceid\":\"kwinanapeaPLC\",\"grade\":\"BFOD1\",\"b3_1_running_seconds\":4966.0,\"b3_1_feeding_seconds\":3331.0,\"b3_1_efficiency_pct\":42.0,\"b3_1_tph_setpoint\":750.0,\"c3_1_destination\":\"338\",\"b3_1_actual_tph\":539.0,\"b3_1_tonnes_moved\":458.0,\"b3_2_running_seconds\":455.0,\"b3_2_feeding_seconds\":326.0,\"b3_2_efficiency_pct\":42.0,\"b3_2_tph_setpoint\":750.0,\"b3_2_destination\":\"102\",\"b3_2_actual_tph\":548.0,\"b3_2_tonnes_moved\":42.0,\"b4_1_running_seconds\":5020.0,\"b4_1_feeding_seconds\":3753.0,\"b4_1_efficiency_pct\":53.0,\"b4_1_tph_setpoint\":750.0,\"b4_1_destination\":\"402\",\"b4_1_actual_tph\":584.0,\"b4_1_tonnes_moved\":588.0,\"b4_2_running_second\":5020.0,\"b4_2_feeding_seconds\":3753.0,\"b4_2_efficiency_pct\":52.0,\"b4_2_tph_setpoint\":750.0,\"b4_2_destination\":'"
      ]
     },
     "execution_count": 15,
     "metadata": {},
     "output_type": "execute_result"
    }
   ],
   "source": [
    "adls.head('/plcreadings/2017/10/19_0_8e3bcd635bba445e89a0b18a53f2a774.json')"
   ]
  },
  {
   "cell_type": "code",
   "execution_count": 74,
   "metadata": {
    "collapsed": true
   },
   "outputs": [],
   "source": [
    "dlsURL = '/plcreadings/2017/10/19_0_a993aa71fc414a8cbcab366452b47f17.json'"
   ]
  },
  {
   "cell_type": "code",
   "execution_count": 75,
   "metadata": {
    "scrolled": true
   },
   "outputs": [
    {
     "data": {
      "text/html": [
       "<div>\n",
       "<style>\n",
       "    .dataframe thead tr:only-child th {\n",
       "        text-align: right;\n",
       "    }\n",
       "\n",
       "    .dataframe thead th {\n",
       "        text-align: left;\n",
       "    }\n",
       "\n",
       "    .dataframe tbody tr th {\n",
       "        vertical-align: top;\n",
       "    }\n",
       "</style>\n",
       "<table border=\"1\" class=\"dataframe\">\n",
       "  <thead>\n",
       "    <tr style=\"text-align: right;\">\n",
       "      <th></th>\n",
       "      <th>b3_1_actual_tph</th>\n",
       "      <th>b3_1_efficiency_pct</th>\n",
       "      <th>b3_1_feeding_seconds</th>\n",
       "      <th>b3_1_running_seconds</th>\n",
       "      <th>b3_1_tonnes_moved</th>\n",
       "      <th>b3_1_tph_setpoint</th>\n",
       "      <th>b3_2_actual_tph</th>\n",
       "      <th>b3_2_destination</th>\n",
       "      <th>b3_2_efficiency_pct</th>\n",
       "      <th>b3_2_feeding_seconds</th>\n",
       "      <th>...</th>\n",
       "      <th>commodity</th>\n",
       "      <th>deviceid</th>\n",
       "      <th>eventtimeawst</th>\n",
       "      <th>eventtimeutc</th>\n",
       "      <th>grade</th>\n",
       "      <th>iothub</th>\n",
       "      <th>messageid</th>\n",
       "      <th>season</th>\n",
       "      <th>site</th>\n",
       "      <th>trainno</th>\n",
       "    </tr>\n",
       "  </thead>\n",
       "  <tbody>\n",
       "    <tr>\n",
       "      <th>0</th>\n",
       "      <td>1.0</td>\n",
       "      <td>68.0</td>\n",
       "      <td>3032.0</td>\n",
       "      <td>3458.0</td>\n",
       "      <td>590.0</td>\n",
       "      <td>850.0</td>\n",
       "      <td>0.0</td>\n",
       "      <td>430</td>\n",
       "      <td>65.0</td>\n",
       "      <td>3065.0</td>\n",
       "      <td>...</td>\n",
       "      <td>None</td>\n",
       "      <td>kwinanapeaPLC</td>\n",
       "      <td>2017-10-19T08:00:06.3044982Z</td>\n",
       "      <td>2017-10-19T00:00:06.3044982Z</td>\n",
       "      <td>None</td>\n",
       "      <td>{'MessageId': None, 'CorrelationId': None, 'Co...</td>\n",
       "      <td>5667</td>\n",
       "      <td>None</td>\n",
       "      <td>Kwinana</td>\n",
       "      <td>4k14</td>\n",
       "    </tr>\n",
       "    <tr>\n",
       "      <th>1</th>\n",
       "      <td>0.0</td>\n",
       "      <td>68.0</td>\n",
       "      <td>3032.0</td>\n",
       "      <td>3468.0</td>\n",
       "      <td>590.0</td>\n",
       "      <td>850.0</td>\n",
       "      <td>1.0</td>\n",
       "      <td>430</td>\n",
       "      <td>65.0</td>\n",
       "      <td>3065.0</td>\n",
       "      <td>...</td>\n",
       "      <td>None</td>\n",
       "      <td>kwinanapeaPLC</td>\n",
       "      <td>2017-10-19T08:00:11.0389162Z</td>\n",
       "      <td>2017-10-19T00:00:11.0389162Z</td>\n",
       "      <td>None</td>\n",
       "      <td>{'MessageId': None, 'CorrelationId': None, 'Co...</td>\n",
       "      <td>5668</td>\n",
       "      <td>None</td>\n",
       "      <td>Kwinana</td>\n",
       "      <td>4k14</td>\n",
       "    </tr>\n",
       "    <tr>\n",
       "      <th>2</th>\n",
       "      <td>0.0</td>\n",
       "      <td>68.0</td>\n",
       "      <td>3032.0</td>\n",
       "      <td>3473.0</td>\n",
       "      <td>590.0</td>\n",
       "      <td>850.0</td>\n",
       "      <td>1.0</td>\n",
       "      <td>430</td>\n",
       "      <td>65.0</td>\n",
       "      <td>3065.0</td>\n",
       "      <td>...</td>\n",
       "      <td>None</td>\n",
       "      <td>kwinanapeaPLC</td>\n",
       "      <td>2017-10-19T08:00:15.6365634Z</td>\n",
       "      <td>2017-10-19T00:00:15.6365634Z</td>\n",
       "      <td>None</td>\n",
       "      <td>{'MessageId': None, 'CorrelationId': None, 'Co...</td>\n",
       "      <td>5669</td>\n",
       "      <td>None</td>\n",
       "      <td>Kwinana</td>\n",
       "      <td>4k14</td>\n",
       "    </tr>\n",
       "    <tr>\n",
       "      <th>3</th>\n",
       "      <td>0.0</td>\n",
       "      <td>68.0</td>\n",
       "      <td>3032.0</td>\n",
       "      <td>3478.0</td>\n",
       "      <td>590.0</td>\n",
       "      <td>850.0</td>\n",
       "      <td>2.0</td>\n",
       "      <td>430</td>\n",
       "      <td>65.0</td>\n",
       "      <td>3065.0</td>\n",
       "      <td>...</td>\n",
       "      <td>None</td>\n",
       "      <td>kwinanapeaPLC</td>\n",
       "      <td>2017-10-19T08:00:25.4335073Z</td>\n",
       "      <td>2017-10-19T00:00:25.4335073Z</td>\n",
       "      <td>None</td>\n",
       "      <td>{'MessageId': None, 'CorrelationId': None, 'Co...</td>\n",
       "      <td>5670</td>\n",
       "      <td>None</td>\n",
       "      <td>Kwinana</td>\n",
       "      <td>4k14</td>\n",
       "    </tr>\n",
       "    <tr>\n",
       "      <th>4</th>\n",
       "      <td>2.0</td>\n",
       "      <td>68.0</td>\n",
       "      <td>3032.0</td>\n",
       "      <td>3488.0</td>\n",
       "      <td>590.0</td>\n",
       "      <td>850.0</td>\n",
       "      <td>0.0</td>\n",
       "      <td>430</td>\n",
       "      <td>65.0</td>\n",
       "      <td>3065.0</td>\n",
       "      <td>...</td>\n",
       "      <td>None</td>\n",
       "      <td>kwinanapeaPLC</td>\n",
       "      <td>2017-10-19T08:00:34.8586929Z</td>\n",
       "      <td>2017-10-19T00:00:34.8586929Z</td>\n",
       "      <td>None</td>\n",
       "      <td>{'MessageId': None, 'CorrelationId': None, 'Co...</td>\n",
       "      <td>5672</td>\n",
       "      <td>None</td>\n",
       "      <td>Kwinana</td>\n",
       "      <td>4k14</td>\n",
       "    </tr>\n",
       "  </tbody>\n",
       "</table>\n",
       "<p>5 rows × 38 columns</p>\n",
       "</div>"
      ],
      "text/plain": [
       "   b3_1_actual_tph  b3_1_efficiency_pct  b3_1_feeding_seconds  \\\n",
       "0              1.0                 68.0                3032.0   \n",
       "1              0.0                 68.0                3032.0   \n",
       "2              0.0                 68.0                3032.0   \n",
       "3              0.0                 68.0                3032.0   \n",
       "4              2.0                 68.0                3032.0   \n",
       "\n",
       "   b3_1_running_seconds  b3_1_tonnes_moved  b3_1_tph_setpoint  \\\n",
       "0                3458.0              590.0              850.0   \n",
       "1                3468.0              590.0              850.0   \n",
       "2                3473.0              590.0              850.0   \n",
       "3                3478.0              590.0              850.0   \n",
       "4                3488.0              590.0              850.0   \n",
       "\n",
       "   b3_2_actual_tph b3_2_destination  b3_2_efficiency_pct  \\\n",
       "0              0.0              430                 65.0   \n",
       "1              1.0              430                 65.0   \n",
       "2              1.0              430                 65.0   \n",
       "3              2.0              430                 65.0   \n",
       "4              0.0              430                 65.0   \n",
       "\n",
       "   b3_2_feeding_seconds   ...     commodity       deviceid  \\\n",
       "0                3065.0   ...          None  kwinanapeaPLC   \n",
       "1                3065.0   ...          None  kwinanapeaPLC   \n",
       "2                3065.0   ...          None  kwinanapeaPLC   \n",
       "3                3065.0   ...          None  kwinanapeaPLC   \n",
       "4                3065.0   ...          None  kwinanapeaPLC   \n",
       "\n",
       "                  eventtimeawst                  eventtimeutc grade  \\\n",
       "0  2017-10-19T08:00:06.3044982Z  2017-10-19T00:00:06.3044982Z  None   \n",
       "1  2017-10-19T08:00:11.0389162Z  2017-10-19T00:00:11.0389162Z  None   \n",
       "2  2017-10-19T08:00:15.6365634Z  2017-10-19T00:00:15.6365634Z  None   \n",
       "3  2017-10-19T08:00:25.4335073Z  2017-10-19T00:00:25.4335073Z  None   \n",
       "4  2017-10-19T08:00:34.8586929Z  2017-10-19T00:00:34.8586929Z  None   \n",
       "\n",
       "                                              iothub  messageid  season  \\\n",
       "0  {'MessageId': None, 'CorrelationId': None, 'Co...       5667    None   \n",
       "1  {'MessageId': None, 'CorrelationId': None, 'Co...       5668    None   \n",
       "2  {'MessageId': None, 'CorrelationId': None, 'Co...       5669    None   \n",
       "3  {'MessageId': None, 'CorrelationId': None, 'Co...       5670    None   \n",
       "4  {'MessageId': None, 'CorrelationId': None, 'Co...       5672    None   \n",
       "\n",
       "      site  trainno  \n",
       "0  Kwinana     4k14  \n",
       "1  Kwinana     4k14  \n",
       "2  Kwinana     4k14  \n",
       "3  Kwinana     4k14  \n",
       "4  Kwinana     4k14  \n",
       "\n",
       "[5 rows x 38 columns]"
      ]
     },
     "execution_count": 75,
     "metadata": {},
     "output_type": "execute_result"
    }
   ],
   "source": [
    "with adls.open(dlsURL, blocksize=5**2000, delimiter=bytes) as fp:\n",
    "    inp = fp.readlines()\n",
    "    sd = [json.loads(inp[i]) for i in range(len(inp)) ]\n",
    "    df3 = pd.DataFrame(sd)\n",
    "df3.head()"
   ]
  },
  {
   "cell_type": "code",
   "execution_count": null,
   "metadata": {
    "collapsed": true
   },
   "outputs": [],
   "source": []
  }
 ],
 "metadata": {
  "kernelspec": {
   "display_name": "Python 3",
   "language": "python",
   "name": "python3"
  },
  "language_info": {
   "codemirror_mode": {
    "name": "ipython",
    "version": 3
   },
   "file_extension": ".py",
   "mimetype": "text/x-python",
   "name": "python",
   "nbconvert_exporter": "python",
   "pygments_lexer": "ipython3",
   "version": "3.6.3"
  }
 },
 "nbformat": 4,
 "nbformat_minor": 2
}
